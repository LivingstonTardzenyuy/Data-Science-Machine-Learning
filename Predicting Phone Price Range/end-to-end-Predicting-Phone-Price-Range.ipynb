{
 "cells": [
  {
   "cell_type": "markdown",
   "id": "f7f9e5db-9cb7-49f4-80d4-aa14e8adb777",
   "metadata": {},
   "source": [
    "# Prediction Phone Price range using Machine Learning.\n",
    "\n",
    "This notebook looks into using various Python-based ML and Data Science libraries in an attempt to build a machine learning model capable of predicting the price range of a phone as either high, cheap or expensive\n",
    "\n",
    "The following approach will be taken:\n",
    "\n",
    "1. Problem defination\n",
    "2. Data\n",
    "3. Evaluation\n",
    "4. Features\n",
    "5. Modelling\n",
    "6. Experimentation"
   ]
  },
  {
   "cell_type": "markdown",
   "id": "119ddf52-cc08-4c52-96d3-45a817705ce8",
   "metadata": {},
   "source": [
    "## 1. Problem Defination\n",
    "In a statement,\n",
    "\n",
    "    * Given parameters about phone data\n",
    "\n",
    "## 2. Data\n",
    "    The original data comes from Kaggle Machine learning Repo.\n",
    "\n",
    "    It can be found at this link: https://www.kaggle.com/datasets/iabhishekofficial/mobile-price-classification/data\n",
    "\n",
    "## 3. Evaluation\n",
    "    > If we can reach 96% accuracy at predicting the price range of mobile phones during the proof of concept, we'll persue the project.\n",
    "\n",
    "## 4. Features\n",
    "    This is where you will get different information about each of the features in our data.\n",
    "        Create data dictionary\n",
    "        "
   ]
  },
  {
   "cell_type": "markdown",
   "id": "def9cb9b-0f2c-4187-a797-36293d413beb",
   "metadata": {},
   "source": [
    "## Preparing the tools.\n",
    "We're going to use pandas, Matplotlib and Numpy for data analysis and Manipulation\n",
    "\n",
    "We will use sklearn to build our model"
   ]
  },
  {
   "cell_type": "code",
   "execution_count": 5,
   "id": "b9898a51-1e3a-44e4-9187-b35e8fa45f03",
   "metadata": {},
   "outputs": [],
   "source": [
    "# import all the tools we need\n",
    "\n",
    "# Regular EDA (Exploratory Data Analysis) and plotting libraries\n",
    "import numpy as np\n",
    "import pandas as pd\n",
    "import matplotlib.pyplot as plt\n",
    "import seaborn as sns\n",
    "\n",
    "\n",
    "#we want our plot appear inside notebook\n",
    "%matplotlib inline\n",
    "\n",
    "\n",
    "# Models from Scikit-Learn\n",
    "from sklearn.linear_model import LogisticRegression\n",
    "from sklearn.neighbors import KNeighborsClassifier\n",
    "from sklearn.ensemble import RandomForestClassifier\n",
    "\n",
    "\n",
    "\n",
    "# Model Evaluation\n",
    "from sklearn.model_selection import train_test_split, cross_val_score\n",
    "from sklearn.model_selection import RandomizedSearchCV, GridSearchCV\n",
    "from sklearn.metrics import classification_report\n",
    "from sklearn.metrics import precision_score, recall_score, f1_score\n",
    "from sklearn.metrics import RocCurveDisplay, roc_auc_score\n",
    "from sklearn import metrics\n",
    "from sklearn.metrics import confusion_matrix, ConfusionMatrixDisplay\n"
   ]
  },
  {
   "cell_type": "markdown",
   "id": "3342f424-090f-4b8c-94c0-2904eaeefe10",
   "metadata": {},
   "source": [
    "# Load our Data"
   ]
  },
  {
   "cell_type": "code",
   "execution_count": 6,
   "id": "a0822924-00ce-4334-95f6-db8ed9fba996",
   "metadata": {},
   "outputs": [
    {
     "data": {
      "text/plain": [
       "(2000, 21)"
      ]
     },
     "execution_count": 6,
     "metadata": {},
     "output_type": "execute_result"
    }
   ],
   "source": [
    "df = pd.read_csv(\"train.csv\")\n",
    "df.shape"
   ]
  },
  {
   "cell_type": "code",
   "execution_count": null,
   "id": "d4198a96-8fcc-492e-9397-1d3bc9001117",
   "metadata": {},
   "outputs": [],
   "source": []
  }
 ],
 "metadata": {
  "kernelspec": {
   "display_name": "Python 3 (ipykernel)",
   "language": "python",
   "name": "python3"
  },
  "language_info": {
   "codemirror_mode": {
    "name": "ipython",
    "version": 3
   },
   "file_extension": ".py",
   "mimetype": "text/x-python",
   "name": "python",
   "nbconvert_exporter": "python",
   "pygments_lexer": "ipython3",
   "version": "3.8.19"
  }
 },
 "nbformat": 4,
 "nbformat_minor": 5
}
