{
 "cells": [
  {
   "cell_type": "code",
   "execution_count": 1,
   "id": "20bf702d-c30f-4314-8ad2-022e7342ab66",
   "metadata": {},
   "outputs": [],
   "source": [
    "import numpy as np"
   ]
  },
  {
   "cell_type": "markdown",
   "id": "f57127ad-9c30-46f5-9f64-ee2fa8b10e9e",
   "metadata": {},
   "source": [
    "## DataTypes & Attributes in Numpy"
   ]
  },
  {
   "cell_type": "code",
   "execution_count": 2,
   "id": "656f9360-eee9-4c48-b000-d4976d034b41",
   "metadata": {},
   "outputs": [
    {
     "data": {
      "text/plain": [
       "array([1, 2, 3])"
      ]
     },
     "execution_count": 2,
     "metadata": {},
     "output_type": "execute_result"
    }
   ],
   "source": [
    "al = np.array([1,2,3])\n",
    "al"
   ]
  },
  {
   "cell_type": "code",
   "execution_count": 3,
   "id": "b4d3418f-1d8a-454f-97f2-723c172f664e",
   "metadata": {},
   "outputs": [
    {
     "data": {
      "text/plain": [
       "numpy.ndarray"
      ]
     },
     "execution_count": 3,
     "metadata": {},
     "output_type": "execute_result"
    }
   ],
   "source": [
    "type(al)"
   ]
  },
  {
   "cell_type": "code",
   "execution_count": 6,
   "id": "49ffe176-a0e0-4af2-977a-ead64e673816",
   "metadata": {},
   "outputs": [],
   "source": [
    "a2 = np.array([[1,2.0,6],\n",
    "              [8,7,6]])\n",
    "\n",
    "# a3 = np.array([[[1,2,3],\n",
    "#                [4,5,6],\n",
    "#                [7,8,9]],\n",
    "#               [[10,11,12],\n",
    "#               [13,14,15]]])\n"
   ]
  },
  {
   "cell_type": "code",
   "execution_count": 7,
   "id": "0aaa5630-98c3-4c58-8db4-ea7c6d2d0e84",
   "metadata": {},
   "outputs": [
    {
     "data": {
      "text/plain": [
       "array([[1., 2., 6.],\n",
       "       [8., 7., 6.]])"
      ]
     },
     "execution_count": 7,
     "metadata": {},
     "output_type": "execute_result"
    }
   ],
   "source": [
    "a2"
   ]
  },
  {
   "cell_type": "code",
   "execution_count": 9,
   "id": "5ca2da77-2817-4953-a4d5-7d0521cc2dfc",
   "metadata": {},
   "outputs": [
    {
     "data": {
      "text/plain": [
       "(2, 3)"
      ]
     },
     "execution_count": 9,
     "metadata": {},
     "output_type": "execute_result"
    }
   ],
   "source": [
    "a2.shape"
   ]
  },
  {
   "cell_type": "code",
   "execution_count": 11,
   "id": "2e26fb13-9dd1-48d1-9670-c4d16b6e83ac",
   "metadata": {},
   "outputs": [
    {
     "data": {
      "text/plain": [
       "(1, 2)"
      ]
     },
     "execution_count": 11,
     "metadata": {},
     "output_type": "execute_result"
    }
   ],
   "source": [
    "al.ndim, a2.ndim"
   ]
  },
  {
   "cell_type": "code",
   "execution_count": 13,
   "id": "3c581c64-4ce6-4b8c-b2bf-8ddd4542bf59",
   "metadata": {},
   "outputs": [
    {
     "data": {
      "text/plain": [
       "(3, 6)"
      ]
     },
     "execution_count": 13,
     "metadata": {},
     "output_type": "execute_result"
    }
   ],
   "source": [
    "al.size, a2.size"
   ]
  },
  {
   "cell_type": "code",
   "execution_count": 16,
   "id": "d5029c90-c470-4bc6-9620-6adcef2d6e19",
   "metadata": {},
   "outputs": [
    {
     "data": {
      "text/plain": [
       "(numpy.ndarray, numpy.ndarray)"
      ]
     },
     "execution_count": 16,
     "metadata": {},
     "output_type": "execute_result"
    }
   ],
   "source": [
    "type(al), type(a2)"
   ]
  },
  {
   "cell_type": "code",
   "execution_count": 17,
   "id": "6652aeff-695c-407e-8f1d-903372bce7aa",
   "metadata": {},
   "outputs": [
    {
     "data": {
      "text/html": [
       "<div>\n",
       "<style scoped>\n",
       "    .dataframe tbody tr th:only-of-type {\n",
       "        vertical-align: middle;\n",
       "    }\n",
       "\n",
       "    .dataframe tbody tr th {\n",
       "        vertical-align: top;\n",
       "    }\n",
       "\n",
       "    .dataframe thead th {\n",
       "        text-align: right;\n",
       "    }\n",
       "</style>\n",
       "<table border=\"1\" class=\"dataframe\">\n",
       "  <thead>\n",
       "    <tr style=\"text-align: right;\">\n",
       "      <th></th>\n",
       "      <th>0</th>\n",
       "      <th>1</th>\n",
       "      <th>2</th>\n",
       "    </tr>\n",
       "  </thead>\n",
       "  <tbody>\n",
       "    <tr>\n",
       "      <th>0</th>\n",
       "      <td>1.0</td>\n",
       "      <td>2.0</td>\n",
       "      <td>6.0</td>\n",
       "    </tr>\n",
       "    <tr>\n",
       "      <th>1</th>\n",
       "      <td>8.0</td>\n",
       "      <td>7.0</td>\n",
       "      <td>6.0</td>\n",
       "    </tr>\n",
       "  </tbody>\n",
       "</table>\n",
       "</div>"
      ],
      "text/plain": [
       "     0    1    2\n",
       "0  1.0  2.0  6.0\n",
       "1  8.0  7.0  6.0"
      ]
     },
     "execution_count": 17,
     "metadata": {},
     "output_type": "execute_result"
    }
   ],
   "source": [
    "import pandas as pd\n",
    "df = pd.DataFrame(a2)\n",
    "df"
   ]
  },
  {
   "cell_type": "code",
   "execution_count": null,
   "id": "dafd3966-7e58-4a80-9bfb-e254a5924c1d",
   "metadata": {},
   "outputs": [],
   "source": []
  }
 ],
 "metadata": {
  "kernelspec": {
   "display_name": "Python 3 (ipykernel)",
   "language": "python",
   "name": "python3"
  },
  "language_info": {
   "codemirror_mode": {
    "name": "ipython",
    "version": 3
   },
   "file_extension": ".py",
   "mimetype": "text/x-python",
   "name": "python",
   "nbconvert_exporter": "python",
   "pygments_lexer": "ipython3",
   "version": "3.12.4"
  }
 },
 "nbformat": 4,
 "nbformat_minor": 5
}
